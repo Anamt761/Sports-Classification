
{
 "cells": [
  {
   "cell_type": "markdown",
   "metadata": {},
   "source": [
    "# **Automatic Identification and Classification of Diverse Sports**
",
    "### **Using Advanced Deep Learning Models**
",
    "
",
    "This notebook performs sports image classification using **Deep Neural Networks (DNN)** and **pretrained models (ResNet50, MobileNetV3)**.
",
    "
",
    "### **Dataset:**
",
    "- The dataset consists of images from four sports categories: **Cricket, Tennis, Badminton, Swimming**.
",
    "- It is split into **training (labeled) and testing (unlabeled)** sets.
",
    "- Dataset link: [Kaggle Sports Dataset](https://www.kaggle.com/datasets/sidharkal/sports-image-classification/data).
",
    "
",
    "### **Approach:**
",
    "- **Preprocessing:** Noise removal, flipping, rotation, brightness adjustment.
",
    "- **Data Augmentation:** To improve generalization.
",
    "- **Model Training:**
",
    "  - **DNN (Proposed Model)**
",
    "  - **ResNet50 (Pretrained)**
",
    "  - **MobileNetV3 (Pretrained)**
",
    "- **Performance Evaluation:** Classification Report, Accuracy/Loss Graphs, Confusion Matrix."
   ]
  },
  {
   "cell_type": "code",
   "execution_count": null,
   "metadata": {},
   "outputs": [],
   "source": [
    "# Install required libraries
",
    "!pip install tensorflow keras numpy pandas matplotlib seaborn opencv-python scikit-learn
"
   ]
  },
  {
   "cell_type": "code",
   "execution_count": null,
   "metadata": {},
   "outputs": [],
   "source": [
    "# Import required libraries
",
    "import os
",
    "import numpy as np
",
    "import pandas as pd
",
    "import cv2
",
    "import tensorflow as tf
",
    "import seaborn as sns
",
    "import matplotlib.pyplot as plt
",
    "
",
    "from tensorflow.keras.preprocessing.image import ImageDataGenerator
",
    "from tensorflow.keras.applications import ResNet50, MobileNetV3Large
",
    "from tensorflow.keras.models import Sequential
",
    "from tensorflow.keras.layers import Dense, Flatten, Dropout, Conv2D, MaxPooling2D
",
    "from tensorflow.keras.optimizers import Adam
",
    "from tensorflow.keras.utils import to_categorical
",
    "from sklearn.metrics import classification_report, confusion_matrix
",
    "from sklearn.model_selection import train_test_split
",
    "
",
    "import warnings
",
    "warnings.filterwarnings("ignore")"
   ]
  },
  {
   "cell_type": "code",
   "execution_count": null,
   "metadata": {},
   "outputs": [],
   "source": [
    "# Load dataset (Modify path as per dataset location)
",
    "data_dir = "sports-image-classification"  # Path to dataset
",
    "
",
    "# Define classes
",
    "classes = ['cricket', 'tennis', 'badminton', 'swimming']
",
    "
",
    "# Load images and labels
",
    "image_data = []
",
    "labels = []
",
    "
",
    "for label, sport in enumerate(classes):
",
    "    sport_path = os.path.join(data_dir, 'train', sport)
",
    "    for img_file in os.listdir(sport_path):
",
    "        img_path = os.path.join(sport_path, img_file)
",
    "        img = cv2.imread(img_path)
",
    "        img = cv2.resize(img, (224, 224))  # Resize to standard input size
",
    "        image_data.append(img)
",
    "        labels.append(label)
",
    "
",
    "# Convert to numpy arrays
",
    "X = np.array(image_data) / 255.0  # Normalize pixel values
",
    "y = np.array(labels)
",
    "
",
    "# One-hot encode labels
",
    "y = to_categorical(y, num_classes=len(classes))
",
    "
",
    "# Split into training and validation sets (70-30 split)
",
    "X_train, X_val, y_train, y_val = train_test_split(X, y, test_size=0.3, random_state=42, stratify=y)
",
    "
",
    "print(f"Training set size: {X_train.shape}, Validation set size: {X_val.shape}")"
   ]
  }
 ],
 "metadata": {
  "kernelspec": {
   "display_name": "Python 3",
   "language": "python",
   "name": "python3"
  },
  "language_info": {
   "codemirror_mode": {
    "name": "ipython",
    "version": 3
   },
   "file_extension": ".py",
   "mimetype": "text/x-python",
   "name": "python",
   "nbconvert_exporter": "python",
   "pygments_lexer": "ipython3",
   "version": "3.8.10"
  }
 },
 "nbformat": 4,
 "nbformat_minor": 4
}
